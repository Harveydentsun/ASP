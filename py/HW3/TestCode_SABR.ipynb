{
 "cells": [
  {
   "cell_type": "markdown",
   "metadata": {
    "collapsed": true
   },
   "source": [
    "# SABR Model Test Code"
   ]
  },
  {
   "cell_type": "code",
   "execution_count": 1,
   "metadata": {},
   "outputs": [],
   "source": [
    "%load_ext autoreload\n",
    "%autoreload 2"
   ]
  },
  {
   "cell_type": "code",
   "execution_count": 2,
   "metadata": {},
   "outputs": [
    {
     "data": {
      "text/plain": [
       "<module 'pyfeng' from 'C:\\\\Users\\\\harvey\\\\anaconda3\\\\lib\\\\site-packages\\\\pyfeng\\\\__init__.py'>"
      ]
     },
     "execution_count": 2,
     "metadata": {},
     "output_type": "execute_result"
    }
   ],
   "source": [
    "import imp\n",
    "import numpy as np\n",
    "import matplotlib.pyplot as plt\n",
    "import sys\n",
    "sys.path.insert(sys.path.index('')+1, 'D:/Github/PyFENG')\n",
    "import pyfeng as pf\n",
    "import option_models as opt\n",
    "pf"
   ]
  },
  {
   "cell_type": "markdown",
   "metadata": {},
   "source": [
    "## 1. Pricing using Hagan's formula (provided)"
   ]
  },
  {
   "cell_type": "markdown",
   "metadata": {},
   "source": [
    "### (1) SABR for $0<\\beta\\le 1$"
   ]
  },
  {
   "cell_type": "code",
   "execution_count": 3,
   "metadata": {},
   "outputs": [],
   "source": [
    "# Parameters\n",
    "strike = np.linspace(75,125,num=25)\n",
    "forward = 100\n",
    "sigma = 0.2\n",
    "texp = 1\n",
    "vov = 0.5\n",
    "rho = 0.25\n",
    "beta = 1"
   ]
  },
  {
   "cell_type": "code",
   "execution_count": 4,
   "metadata": {},
   "outputs": [],
   "source": [
    "# Create model\n",
    "sabr_bsm = pf.SabrHagan2002(sigma, vov=vov, rho=rho, beta=beta)\n",
    "#sabr_bsm.__dict__"
   ]
  },
  {
   "cell_type": "code",
   "execution_count": 5,
   "metadata": {},
   "outputs": [
    {
     "data": {
      "text/plain": [
       "(array([25.63112985, 23.75128418, 21.92436819, 20.15929844, 18.464919  ,\n",
       "        16.84954379, 15.32049449, 13.88369006, 12.5433379 , 11.30176115,\n",
       "        10.15937353,  9.11479108,  8.16505218,  7.30590775,  6.53214252,\n",
       "         5.83789336,  5.21693965,  4.66295032,  4.1696811 ,  3.73112202,\n",
       "         3.34159961,  2.99584057,  2.68900456,  2.4166934 ,  2.17494321]),\n",
       " array([0.20400581, 0.20266888, 0.20161986, 0.20085527, 0.2003692 ,\n",
       "        0.20015312, 0.20019595, 0.20048427, 0.20100266, 0.20173418,\n",
       "        0.20266088, 0.20376432, 0.20502604, 0.20642803, 0.20795302,\n",
       "        0.20958477, 0.2113082 , 0.21310949, 0.21497615, 0.21689693,\n",
       "        0.2188618 , 0.22086191, 0.22288945, 0.22493758, 0.22700034]))"
      ]
     },
     "execution_count": 5,
     "metadata": {},
     "output_type": "execute_result"
    }
   ],
   "source": [
    "# This is how you price. you can get either price or bsm_vol\n",
    "price = sabr_bsm.price(strike, forward, texp)\n",
    "bsm_vol = sabr_bsm.vol_smile(strike, forward, texp)\n",
    "\n",
    "price, bsm_vol"
   ]
  },
  {
   "cell_type": "code",
   "execution_count": 6,
   "metadata": {},
   "outputs": [
    {
     "data": {
      "image/png": "[encoded data removed]",
      "text/plain": [
       "<Figure size 432x288 with 1 Axes>"
      ]
     },
     "metadata": {
      "needs_background": "light"
     },
     "output_type": "display_data"
    }
   ],
   "source": [
    "# volatility smile plot: try with different parameters\n",
    "plt.plot(strike, bsm_vol, 'ro')\n",
    "#plt.axis([0, 6, 0, 20])\n",
    "plt.ylabel('BSM Imp Vol under SABR')\n",
    "plt.xlabel('Strike')\n",
    "plt.grid()\n",
    "plt.show()"
   ]
  },
  {
   "cell_type": "markdown",
   "metadata": {},
   "source": [
    "### (2) SABR for $\\beta=0$"
   ]
  },
  {
   "cell_type": "code",
   "execution_count": 7,
   "metadata": {},
   "outputs": [],
   "source": [
    "strike = np.linspace(75,125,num=25)\n",
    "#strike = 1\n",
    "forward = 100\n",
    "sigma = 20\n",
    "texp = 1\n",
    "alpha = 0.5\n",
    "rho = -0.25"
   ]
  },
  {
   "cell_type": "code",
   "execution_count": 8,
   "metadata": {},
   "outputs": [],
   "source": [
    "sabr_norm = pf.SabrHagan2002(sigma, vov=vov, rho=rho, beta=0)\n",
    "price = sabr_norm.price(strike, forward, texp)\n",
    "nvol = sabr_norm.vol_smile(strike, forward, texp, model='norm')"
   ]
  },
  {
   "cell_type": "code",
   "execution_count": 9,
   "metadata": {},
   "outputs": [
    {
     "data": {
      "image/png": "[encoded data removed]",
      "text/plain": [
       "<Figure size 432x288 with 1 Axes>"
      ]
     },
     "metadata": {
      "needs_background": "light"
     },
     "output_type": "display_data"
    }
   ],
   "source": [
    "plt.plot(strike, nvol, 'ro')\n",
    "#plt.axis([0, 6, 0, 20])\n",
    "plt.ylabel('Normal Imp Vol under SABR')\n",
    "plt.xlabel('Strike')\n",
    "plt.grid()\n",
    "plt.show()"
   ]
  },
  {
   "cell_type": "markdown",
   "metadata": {},
   "source": [
    "### (3) Smile calibration to 3 options"
   ]
  },
  {
   "cell_type": "code",
   "execution_count": 10,
   "metadata": {},
   "outputs": [
    {
     "data": {
      "text/plain": [
       "(array([13.60780137,  8.16505218,  4.76869334]),\n",
       " array([0.20057006, 0.20502604, 0.21274362]))"
      ]
     },
     "execution_count": 10,
     "metadata": {},
     "output_type": "execute_result"
    }
   ],
   "source": [
    "strike3 = np.array([90, 100, 110])\n",
    "price3 = sabr_bsm.price(strike3, forward, texp)\n",
    "vol3 = sabr_bsm.vol_smile(strike3, forward, texp)\n",
    "\n",
    "price3, vol3"
   ]
  },
  {
   "cell_type": "code",
   "execution_count": 11,
   "metadata": {},
   "outputs": [
    {
     "data": {
      "text/plain": [
       "{'sigma': 0.2,\n",
       " 'intr': 0.0,\n",
       " 'divr': 0.0,\n",
       " 'is_fwd': False,\n",
       " 'vov': 0.5,\n",
       " 'rho': 0.25,\n",
       " 'beta': 1}"
      ]
     },
     "execution_count": 11,
     "metadata": {},
     "output_type": "execute_result"
    }
   ],
   "source": [
    "sabr_bsm.__dict__"
   ]
  },
  {
   "cell_type": "code",
   "execution_count": 12,
   "metadata": {},
   "outputs": [
    {
     "data": {
      "text/plain": [
       "{'sigma': 0.2000000000001008,\n",
       " 'vov': 0.4999999998672808,\n",
       " 'rho': 0.24999999998258432}"
      ]
     },
     "execution_count": 12,
     "metadata": {},
     "output_type": "execute_result"
    }
   ],
   "source": [
    "# makre sure this return the original sigma, alpha, rho\n",
    "sabr_bsm.calibrate3(vol3, strike3, forward, texp, is_vol=True)"
   ]
  },
  {
   "cell_type": "code",
   "execution_count": 13,
   "metadata": {},
   "outputs": [
    {
     "data": {
      "text/plain": [
       "{'sigma': 0.19999999979636335,\n",
       " 'vov': 0.5000000129299839,\n",
       " 'rho': 0.2499999894054446}"
      ]
     },
     "execution_count": 13,
     "metadata": {},
     "output_type": "execute_result"
    }
   ],
   "source": [
    "# makre sure this return the original sigma, alpha, rho\n",
    "sabr_bsm.calibrate3(price3, strike3, forward, texp, is_vol=False)"
   ]
  },
  {
   "cell_type": "markdown",
   "metadata": {},
   "source": [
    "## 2. Pricing under MC method"
   ]
  },
  {
   "cell_type": "code",
   "execution_count": 14,
   "metadata": {},
   "outputs": [],
   "source": [
    "strike = np.linspace(75,125,num=25)\n",
    "forward = 100"
   ]
  },
  {
   "cell_type": "code",
   "execution_count": 15,
   "metadata": {},
   "outputs": [
    {
     "name": "stdout",
     "output_type": "stream",
     "text": [
      "{'sigma': 0.2, 'intr': 0.0, 'divr': 0.0, 'is_fwd': False, 'vov': 0.5, 'rho': 0.25, 'beta': 1}\n"
     ]
    }
   ],
   "source": [
    "# instantiate mc model from the hagan model's parameters\n",
    "print(sabr_bsm.__dict__)\n",
    "sabr_bsm_mc = opt.sabr.ModelBsmMC(sabr_bsm.sigma, vov=sabr_bsm.vov, rho=sabr_bsm.rho, beta=1)"
   ]
  },
  {
   "cell_type": "code",
   "execution_count": 16,
   "metadata": {},
   "outputs": [
    {
     "data": {
      "text/plain": [
       "(array([25.63112985, 23.75128418, 21.92436819, 20.15929844, 18.464919  ,\n",
       "        16.84954379, 15.32049449, 13.88369006, 12.5433379 , 11.30176115,\n",
       "        10.15937353,  9.11479108,  8.16505218,  7.30590775,  6.53214252,\n",
       "         5.83789336,  5.21693965,  4.66295032,  4.1696811 ,  3.73112202,\n",
       "         3.34159961,  2.99584057,  2.68900456,  2.4166934 ,  2.17494321]),\n",
       " array([25.68267909, 23.81980646, 22.01139088, 20.26749308, 18.59330925,\n",
       "        16.99620675, 15.48386975, 14.0598131 , 12.7243097 , 11.4835773 ,\n",
       "        10.34141338,  9.29879884,  8.35290765,  7.48808627,  6.70537121,\n",
       "         5.99987316,  5.36640271,  4.79829087,  4.29002251,  3.8366473 ,\n",
       "         3.43344845,  3.07417706,  2.75380412,  2.46436655,  2.20625275]))"
      ]
     },
     "execution_count": 16,
     "metadata": {},
     "output_type": "execute_result"
    }
   ],
   "source": [
    "price_hagan = sabr_bsm.price(strike, forward, texp)\n",
    "price_mc = sabr_bsm_mc.price(strike, forward, texp)\n",
    "\n",
    "# make sure the two prices are similar\n",
    "price_hagan, price_mc"
   ]
  },
  {
   "cell_type": "markdown",
   "metadata": {},
   "source": [
    "Repeat the same for beta = 0"
   ]
  },
  {
   "cell_type": "code",
   "execution_count": 17,
   "metadata": {},
   "outputs": [
    {
     "name": "stdout",
     "output_type": "stream",
     "text": [
      "{'sigma': 20, 'intr': 0.0, 'divr': 0.0, 'is_fwd': False, 'vov': 0.5, 'rho': -0.25, 'beta': 0}\n"
     ]
    }
   ],
   "source": [
    "# instantiate mc model from the hagan model's parameters\n",
    "print(sabr_norm.__dict__)\n",
    "sabr_norm_mc = opt.sabr.ModelNormalMC(sabr_norm.sigma, vov=sabr_norm.vov, rho=sabr_norm.rho, beta=0)"
   ]
  },
  {
   "cell_type": "code",
   "execution_count": 18,
   "metadata": {},
   "outputs": [
    {
     "data": {
      "text/plain": [
       "(array([26.59094359, 24.75316491, 22.95198866, 21.19221774, 19.47903728,\n",
       "        17.81796274, 16.21475835, 14.6753216 , 13.20553214, 11.81106589,\n",
       "        10.49717985,  9.26847793,  8.12867327,  7.08036718,  6.12486688,\n",
       "         5.26206391,  4.4903905 ,  3.80686327,  3.2072135 ,  2.6860921 ,\n",
       "         2.2373286 ,  1.85421785,  1.52980713,  1.25715953,  1.02957603]),\n",
       " array([26.4391131 , 24.61268372, 22.82605389, 21.08166103, 19.38436204,\n",
       "        17.74168266, 16.1551532 , 14.6302875 , 13.17152556, 11.78608904,\n",
       "        10.48731456,  9.27482925,  8.15403675,  7.12294482,  6.18269778,\n",
       "         5.33043716,  4.56760958,  3.89297604,  3.2958566 ,  2.77427195,\n",
       "         2.32064462,  1.92983349,  1.59846441,  1.32113339,  1.08627086]))"
      ]
     },
     "execution_count": 18,
     "metadata": {},
     "output_type": "execute_result"
    }
   ],
   "source": [
    "price_hagan = sabr_norm.price(strike, forward, texp)\n",
    "price_mc = sabr_norm_mc.price(strike, forward, texp)\n",
    "\n",
    "# make sure the two prices are similar\n",
    "price_hagan, price_mc"
   ]
  },
  {
   "cell_type": "code",
   "execution_count": null,
   "metadata": {},
   "outputs": [],
   "source": []
  },
  {
   "cell_type": "markdown",
   "metadata": {
    "collapsed": true
   },
   "source": [
    "## 3. Pricing under conditional MC method"
   ]
  },
  {
   "cell_type": "code",
   "execution_count": 19,
   "metadata": {},
   "outputs": [],
   "source": [
    "strike = np.linspace(75,125,num=25)\n",
    "forward = 100"
   ]
  },
  {
   "cell_type": "code",
   "execution_count": 20,
   "metadata": {},
   "outputs": [
    {
     "name": "stdout",
     "output_type": "stream",
     "text": [
      "{'sigma': 0.2, 'intr': 0.0, 'divr': 0.0, 'is_fwd': False, 'vov': 0.5, 'rho': 0.25, 'beta': 1}\n"
     ]
    }
   ],
   "source": [
    "# instantiate mc model from the hagan model's parameters\n",
    "print(sabr_bsm.__dict__)\n",
    "sabr_bsm_cmc = opt.sabr.ModelBsmCondMC(sabr_bsm.sigma, vov=sabr_bsm.vov, rho=sabr_bsm.rho, beta=1)"
   ]
  },
  {
   "cell_type": "code",
   "execution_count": 21,
   "metadata": {},
   "outputs": [
    {
     "data": {
      "text/plain": [
       "(array([25.63112985, 23.75128418, 21.92436819, 20.15929844, 18.464919  ,\n",
       "        16.84954379, 15.32049449, 13.88369006, 12.5433379 , 11.30176115,\n",
       "        10.15937353,  9.11479108,  8.16505218,  7.30590775,  6.53214252,\n",
       "         5.83789336,  5.21693965,  4.66295032,  4.1696811 ,  3.73112202,\n",
       "         3.34159961,  2.99584057,  2.68900456,  2.4166934 ,  2.17494321]),\n",
       " array([25.61961498, 23.73987895, 21.91287475, 20.14745813, 18.45242579,\n",
       "        16.83606523, 15.30569745, 13.86726747, 12.52503276, 11.28138483,\n",
       "        10.13681665,  9.09002665,  8.13813188,  7.27695294,  6.5013318 ,\n",
       "         5.80544852,  5.18311146,  4.62800525,  4.13388976,  3.69474953,\n",
       "         3.30489817,  2.95904406,  2.65232505,  2.38031918,  2.13903817]))"
      ]
     },
     "execution_count": 21,
     "metadata": {},
     "output_type": "execute_result"
    }
   ],
   "source": [
    "price_hagan = sabr_bsm.price(strike, forward, texp)\n",
    "price_mc = sabr_bsm_cmc.price(strike, forward, texp)\n",
    "\n",
    "# make sure the two prices are similar\n",
    "price_hagan, price_mc"
   ]
  },
  {
   "cell_type": "markdown",
   "metadata": {},
   "source": [
    "Repeat the same for beta = 0"
   ]
  },
  {
   "cell_type": "code",
   "execution_count": 22,
   "metadata": {},
   "outputs": [
    {
     "name": "stdout",
     "output_type": "stream",
     "text": [
      "{'sigma': 20, 'intr': 0.0, 'divr': 0.0, 'is_fwd': False, 'vov': 0.5, 'rho': -0.25, 'beta': 0}\n"
     ]
    }
   ],
   "source": [
    "# instantiate mc model from the hagan model's parameters\n",
    "print(sabr_norm.__dict__)\n",
    "sabr_norm_cmc = opt.sabr.ModelNormalCondMC(sabr_norm.sigma, vov=sabr_norm.vov, rho=sabr_norm.rho, beta=0)"
   ]
  },
  {
   "cell_type": "code",
   "execution_count": 23,
   "metadata": {},
   "outputs": [
    {
     "data": {
      "text/plain": [
       "(array([26.59094359, 24.75316491, 22.95198866, 21.19221774, 19.47903728,\n",
       "        17.81796274, 16.21475835, 14.6753216 , 13.20553214, 11.81106589,\n",
       "        10.49717985,  9.26847793,  8.12867327,  7.08036718,  6.12486688,\n",
       "         5.26206391,  4.4903905 ,  3.80686327,  3.2072135 ,  2.6860921 ,\n",
       "         2.2373286 ,  1.85421785,  1.52980713,  1.25715953,  1.02957603]),\n",
       " array([26.57917777, 24.7395514 , 22.93673432, 21.17557281, 19.46129216,\n",
       "        17.79944218, 16.19581287, 14.65631652, 13.1868344 , 11.79302957,\n",
       "        10.48013133,  9.25270173,  8.11439986,  7.06776373,  6.11403189,\n",
       "         5.25302625,  4.48311296,  3.80125021,  3.20312183,  2.68334442,\n",
       "         2.23572725,  1.85355845,  1.52989052,  1.25780139,  1.03061353]))"
      ]
     },
     "execution_count": 23,
     "metadata": {},
     "output_type": "execute_result"
    }
   ],
   "source": [
    "price_hagan = sabr_norm.price(strike, forward, texp)\n",
    "price_mc = sabr_norm_cmc.price(strike, forward, texp)\n",
    "    \n",
    "# make sure the two prices are similar\n",
    "price_hagan, price_mc"
   ]
  },
  {
   "cell_type": "markdown",
   "metadata": {
    "collapsed": true
   },
   "source": [
    "## Compare the MC variance between brute-force MC and conditional MC\n",
    "For this, you should not use the random number seed"
   ]
  },
  {
   "cell_type": "code",
   "execution_count": 24,
   "metadata": {},
   "outputs": [
    {
     "name": "stdout",
     "output_type": "stream",
     "text": [
      "MC method mean: [25.60376458 23.72907004 21.90911481 20.15199516 18.46545864 16.85674053\n",
      " 15.33232382 13.89720455 12.55516107 11.30862041 10.15725411  9.09977705\n",
      "  8.13395208  7.25656616  6.46345753  5.74945839  5.10972791  4.53771206\n",
      "  4.02739315  3.57361235  3.17101166  2.8144257   2.49864412  2.21956207\n",
      "  1.97336861]\n",
      "MC method std: [0.22292019 0.21985248 0.21631958 0.21237996 0.20827361 0.20327873\n",
      " 0.19758771 0.19158604 0.18514719 0.17836192 0.17122673 0.16345914\n",
      " 0.15553589 0.14748488 0.13988146 0.13259843 0.12580408 0.11939876\n",
      " 0.11350792 0.10783333 0.10233216 0.09706044 0.09199385 0.0868328\n",
      " 0.08184622]\n",
      "CMC method mean: [26.56682914 24.72844026 22.92696559 21.16724572 19.45449584 17.7942506\n",
      " 16.1922792  14.65446718 13.18666312 11.79449209 10.4831414   9.25712932\n",
      "  8.12007258  7.0744719   6.12153765  5.26107596  4.49145181  3.80963716\n",
      "  3.21134292  2.69122274  2.24312846  1.86039173  1.53610546  1.26338196\n",
      "  1.03557064]\n",
      "CMC method std: [0.03354032 0.03170092 0.02977302 0.02777158 0.02571771 0.02363973\n",
      " 0.02157409 0.01956576 0.01766755 0.01593732 0.01443181 0.01319608\n",
      " 0.01224989 0.01157671 0.01112326 0.01081261 0.01056423 0.01031078\n",
      " 0.01000662 0.00962851 0.0091719  0.00864556 0.00806617 0.00745376\n",
      " 0.00682838]\n"
     ]
    }
   ],
   "source": [
    "times = 100\n",
    "MC_price = np.zeros((times,len(strike)))\n",
    "CMC_price = np.zeros((times,len(strike)))\n",
    "for i in range(times):\n",
    "    MC_price[i,:] = sabr_bsm_mc.price(strike, forward, texp, random=True)\n",
    "    CMC_price[i,:] = sabr_norm_cmc.price(strike, forward, texp, random=True)\n",
    "    \n",
    "print(\"MC method mean:\" , MC_price.mean(axis=0))\n",
    "print(\"MC method std:\" ,MC_price.std(axis=0))\n",
    "print(\"CMC method mean:\" , CMC_price.mean(axis=0))\n",
    "print(\"CMC method std:\",CMC_price.std(axis=0))"
   ]
  },
  {
   "cell_type": "code",
   "execution_count": 25,
   "metadata": {},
   "outputs": [
    {
     "data": {
      "text/plain": [
       "<matplotlib.legend.Legend at 0x29d0a63abe0>"
      ]
     },
     "execution_count": 25,
     "metadata": {},
     "output_type": "execute_result"
    },
    {
     "data": {
      "image/png": "[encoded data removed]",
      "text/plain": [
       "<Figure size 432x288 with 1 Axes>"
      ]
     },
     "metadata": {
      "needs_background": "light"
     },
     "output_type": "display_data"
    }
   ],
   "source": [
    "mean_arr = np.array([MC_price.mean(axis=0), CMC_price.mean(axis=0)])\n",
    "labels = ['brutal MC', 'Conditional MC']\n",
    "\n",
    "for j in np.arange(len(mean_arr)):\n",
    "    plt.plot(strike, mean_arr[j], label=labels[j])\n",
    "\n",
    "plt.xlabel('Strike ( $K$ )', fontsize=12)\n",
    "plt.ylabel('MC Price Mean', fontsize=12)\n",
    "plt.legend()"
   ]
  },
  {
   "cell_type": "code",
   "execution_count": 26,
   "metadata": {},
   "outputs": [
    {
     "data": {
      "text/plain": [
       "<matplotlib.legend.Legend at 0x29d0a696fd0>"
      ]
     },
     "execution_count": 26,
     "metadata": {},
     "output_type": "execute_result"
    },
    {
     "data": {
      "image/png": "[encoded data removed]",
      "text/plain": [
       "<Figure size 432x288 with 1 Axes>"
      ]
     },
     "metadata": {
      "needs_background": "light"
     },
     "output_type": "display_data"
    }
   ],
   "source": [
    "std_arr = np.array([MC_price.std(axis=0), CMC_price.std(axis=0)])\n",
    "labels = ['brutal MC', 'Conditional MC']\n",
    "\n",
    "for j in np.arange(len(std_arr)):\n",
    "    plt.plot(strike, std_arr[j], label=labels[j])\n",
    "\n",
    "plt.xlabel('Strike ( $K$ )', fontsize=12)\n",
    "plt.ylabel('MC Price Std', fontsize=12)\n",
    "plt.legend()"
   ]
  },
  {
   "cell_type": "code",
   "execution_count": null,
   "metadata": {},
   "outputs": [],
   "source": []
  }
 ],
 "metadata": {
  "anaconda-cloud": {},
  "kernelspec": {
   "display_name": "Python 3",
   "language": "python",
   "name": "python3"
  },
  "language_info": {
   "codemirror_mode": {
    "name": "ipython",
    "version": 3
   },
   "file_extension": ".py",
   "mimetype": "text/x-python",
   "name": "python",
   "nbconvert_exporter": "python",
   "pygments_lexer": "ipython3",
   "version": "3.8.8"
  }
 },
 "nbformat": 4,
 "nbformat_minor": 1
}
